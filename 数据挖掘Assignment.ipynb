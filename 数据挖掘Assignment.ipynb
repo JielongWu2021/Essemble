{
 "cells": [
  {
   "cell_type": "code",
   "execution_count": 1,
   "id": "defb6f67",
   "metadata": {},
   "outputs": [],
   "source": [
    "import numpy as np\n",
    "import pandas as pd\n",
    "import matplotlib.pyplot as plt"
   ]
  },
  {
   "cell_type": "markdown",
   "id": "b909f5d0",
   "metadata": {},
   "source": [
    "## Import dataset"
   ]
  },
  {
   "cell_type": "code",
   "execution_count": 2,
   "id": "01867315",
   "metadata": {},
   "outputs": [],
   "source": [
    "trainset = np.loadtxt('D:\\博士\\课程\\数据挖掘与分析\\kddtrain2021.txt')\n",
    "testset = np.loadtxt('D:\\博士\\课程\\数据挖掘与分析\\kddtest2021.txt')"
   ]
  },
  {
   "cell_type": "code",
   "execution_count": 3,
   "id": "1d997069",
   "metadata": {},
   "outputs": [],
   "source": [
    "X = trainset[:,:-1]\n",
    "y = trainset[:,-1]"
   ]
  },
  {
   "cell_type": "code",
   "execution_count": 4,
   "id": "b29e3a6c",
   "metadata": {},
   "outputs": [
    {
     "name": "stdout",
     "output_type": "stream",
     "text": [
      "(6270, 100)\n",
      "(6270,)\n"
     ]
    }
   ],
   "source": [
    "print(X.shape)\n",
    "print(y.shape)"
   ]
  },
  {
   "cell_type": "markdown",
   "id": "d995578a",
   "metadata": {},
   "source": [
    "## Split dataset"
   ]
  },
  {
   "cell_type": "code",
   "execution_count": 5,
   "id": "578bef79",
   "metadata": {},
   "outputs": [],
   "source": [
    "from sklearn.model_selection import train_test_split\n",
    "\n",
    "X_train, X_val, y_train, y_val = train_test_split(X, y, test_size=0.2, random_state=2021)"
   ]
  },
  {
   "cell_type": "code",
   "execution_count": 6,
   "id": "a71ebfee",
   "metadata": {},
   "outputs": [
    {
     "name": "stdout",
     "output_type": "stream",
     "text": [
      "(array([0., 1., 2.]), array([1976, 1841, 2453], dtype=int64))\n",
      "(array([0., 1., 2.]), array([1578, 1456, 1982], dtype=int64))\n",
      "(array([0., 1., 2.]), array([398, 385, 471], dtype=int64))\n"
     ]
    }
   ],
   "source": [
    "print(np.unique(y, return_counts=True))\n",
    "print(np.unique(y_train, return_counts=True))\n",
    "print(np.unique(y_val, return_counts=True))"
   ]
  },
  {
   "cell_type": "markdown",
   "id": "0adbc998",
   "metadata": {},
   "source": [
    "## Trainning"
   ]
  },
  {
   "cell_type": "markdown",
   "id": "c676a6d4",
   "metadata": {},
   "source": [
    "### 1、KNN"
   ]
  },
  {
   "cell_type": "code",
   "execution_count": 7,
   "id": "1c8afdec",
   "metadata": {},
   "outputs": [
    {
     "name": "stdout",
     "output_type": "stream",
     "text": [
      "[[352  16  30]\n",
      " [  7 358  20]\n",
      " [ 46  77 348]]\n",
      "0.8437001594896332\n"
     ]
    },
    {
     "data": {
      "image/png": "[encoded data removed]",
      "text/plain": [
       "<Figure size 432x288 with 2 Axes>"
      ]
     },
     "metadata": {
      "needs_background": "light"
     },
     "output_type": "display_data"
    },
    {
     "name": "stdout",
     "output_type": "stream",
     "text": [
      "              precision    recall  f1-score   support\n",
      "\n",
      "         0.0      0.869     0.884     0.877       398\n",
      "         1.0      0.794     0.930     0.856       385\n",
      "         2.0      0.874     0.739     0.801       471\n",
      "\n",
      "    accuracy                          0.844      1254\n",
      "   macro avg      0.846     0.851     0.845      1254\n",
      "weighted avg      0.848     0.844     0.842      1254\n",
      "\n"
     ]
    }
   ],
   "source": [
    "from sklearn.neighbors  import KNeighborsClassifier\n",
    "\n",
    "knn_clf = KNeighborsClassifier()\n",
    "knn_clf.fit(X_train, y_train)\n",
    "\n",
    "from sklearn.metrics import confusion_matrix\n",
    "y_predict = knn_clf.predict(X_val)\n",
    "\n",
    "print(confusion_matrix(y_val, y_predict))\n",
    "print(knn_clf.score(X_val, y_val))\n",
    "\n",
    "from sklearn.metrics import plot_confusion_matrix\n",
    "plot_confusion_matrix(knn_clf, X_val, y_val, cmap=plt.cm.Greys)\n",
    "plt.show()\n",
    "\n",
    "from sklearn.metrics import classification_report\n",
    "print(classification_report(y_val, y_predict, digits=3))"
   ]
  },
  {
   "cell_type": "markdown",
   "id": "4c90f8eb",
   "metadata": {},
   "source": [
    "### 2、Decision Tree"
   ]
  },
  {
   "cell_type": "code",
   "execution_count": 8,
   "id": "2936cd3b",
   "metadata": {},
   "outputs": [
    {
     "name": "stdout",
     "output_type": "stream",
     "text": [
      "[[383   5  10]\n",
      " [  4 370  11]\n",
      " [ 11  12 448]]\n",
      "0.9577352472089314\n"
     ]
    },
    {
     "data": {
      "image/png": "[encoded data removed]",
      "text/plain": [
       "<Figure size 432x288 with 2 Axes>"
      ]
     },
     "metadata": {
      "needs_background": "light"
     },
     "output_type": "display_data"
    },
    {
     "name": "stdout",
     "output_type": "stream",
     "text": [
      "              precision    recall  f1-score   support\n",
      "\n",
      "         0.0      0.962     0.962     0.962       398\n",
      "         1.0      0.956     0.961     0.959       385\n",
      "         2.0      0.955     0.951     0.953       471\n",
      "\n",
      "    accuracy                          0.958      1254\n",
      "   macro avg      0.958     0.958     0.958      1254\n",
      "weighted avg      0.958     0.958     0.958      1254\n",
      "\n"
     ]
    }
   ],
   "source": [
    "from sklearn.tree import DecisionTreeClassifier\n",
    "\n",
    "dt_clf = DecisionTreeClassifier(random_state=2021)\n",
    "dt_clf.fit(X_train, y_train)\n",
    "\n",
    "from sklearn.metrics import confusion_matrix\n",
    "y_predict = dt_clf.predict(X_val)\n",
    "\n",
    "print(confusion_matrix(y_val, y_predict))\n",
    "print(dt_clf.score(X_val, y_val))\n",
    "\n",
    "from sklearn.metrics import plot_confusion_matrix\n",
    "plot_confusion_matrix(dt_clf, X_val, y_val, cmap=plt.cm.Greys)\n",
    "plt.show()\n",
    "\n",
    "from sklearn.metrics import classification_report\n",
    "print(classification_report(y_val, y_predict, digits=3))"
   ]
  },
  {
   "cell_type": "markdown",
   "id": "6076e7dd",
   "metadata": {},
   "source": [
    "### 3、SVM"
   ]
  },
  {
   "cell_type": "code",
   "execution_count": 9,
   "id": "9216d40f",
   "metadata": {},
   "outputs": [
    {
     "name": "stdout",
     "output_type": "stream",
     "text": [
      "[[378  10  10]\n",
      " [  1 369  15]\n",
      " [ 17  19 435]]\n",
      "0.9425837320574163\n"
     ]
    },
    {
     "data": {
      "image/png": "[encoded data removed]",
      "text/plain": [
       "<Figure size 432x288 with 2 Axes>"
      ]
     },
     "metadata": {
      "needs_background": "light"
     },
     "output_type": "display_data"
    },
    {
     "name": "stdout",
     "output_type": "stream",
     "text": [
      "              precision    recall  f1-score   support\n",
      "\n",
      "         0.0      0.955     0.950     0.952       398\n",
      "         1.0      0.927     0.958     0.943       385\n",
      "         2.0      0.946     0.924     0.934       471\n",
      "\n",
      "    accuracy                          0.943      1254\n",
      "   macro avg      0.942     0.944     0.943      1254\n",
      "weighted avg      0.943     0.943     0.943      1254\n",
      "\n"
     ]
    }
   ],
   "source": [
    "from sklearn.svm import SVC\n",
    "\n",
    "svm_clf = SVC()\n",
    "svm_clf.fit(X_train, y_train)\n",
    "\n",
    "from sklearn.metrics import confusion_matrix\n",
    "y_predict = svm_clf.predict(X_val)\n",
    "\n",
    "print(confusion_matrix(y_val, y_predict))\n",
    "print(svm_clf.score(X_val, y_val))\n",
    "\n",
    "from sklearn.metrics import plot_confusion_matrix\n",
    "plot_confusion_matrix(svm_clf, X_val, y_val, cmap=plt.cm.Greys)\n",
    "plt.show()\n",
    "\n",
    "from sklearn.metrics import classification_report\n",
    "print(classification_report(y_val, y_predict, digits=3))"
   ]
  },
  {
   "cell_type": "markdown",
   "id": "16aceaf8",
   "metadata": {},
   "source": [
    "### 4、Ensemble"
   ]
  },
  {
   "cell_type": "code",
   "execution_count": 10,
   "id": "9e72972a",
   "metadata": {
    "scrolled": true
   },
   "outputs": [
    {
     "name": "stdout",
     "output_type": "stream",
     "text": [
      "[[384   6   8]\n",
      " [  1 377   7]\n",
      " [  9  13 449]]\n",
      "0.9649122807017544\n"
     ]
    },
    {
     "data": {
      "image/png": "[encoded data removed]",
      "text/plain": [
       "<Figure size 432x288 with 2 Axes>"
      ]
     },
     "metadata": {
      "needs_background": "light"
     },
     "output_type": "display_data"
    },
    {
     "name": "stdout",
     "output_type": "stream",
     "text": [
      "              precision    recall  f1-score   support\n",
      "\n",
      "         0.0      0.975     0.965     0.970       398\n",
      "         1.0      0.952     0.979     0.965       385\n",
      "         2.0      0.968     0.953     0.960       471\n",
      "\n",
      "    accuracy                          0.965      1254\n",
      "   macro avg      0.965     0.966     0.965      1254\n",
      "weighted avg      0.965     0.965     0.965      1254\n",
      "\n"
     ]
    }
   ],
   "source": [
    "from sklearn.ensemble import VotingClassifier\n",
    "\n",
    "voting_clf = VotingClassifier(estimators=[\n",
    "    ('knn_clf', KNeighborsClassifier()),\n",
    "    ('dt_clf', DecisionTreeClassifier(random_state=2021)),\n",
    "    ('svm_clf', SVC(probability=True))],\n",
    "                              voting='soft')\n",
    "voting_clf.fit(X_train, y_train)\n",
    "\n",
    "from sklearn.metrics import confusion_matrix\n",
    "y_predict = voting_clf.predict(X_val)\n",
    "\n",
    "print(confusion_matrix(y_val, y_predict))\n",
    "print(voting_clf.score(X_val, y_val))\n",
    "\n",
    "from sklearn.metrics import plot_confusion_matrix\n",
    "plot_confusion_matrix(voting_clf, X_val, y_val, cmap=plt.cm.Greys)\n",
    "plt.show()\n",
    "\n",
    "from sklearn.metrics import classification_report\n",
    "print(classification_report(y_val, y_predict, digits=3))"
   ]
  },
  {
   "cell_type": "code",
   "execution_count": 11,
   "id": "ab69d7a9",
   "metadata": {},
   "outputs": [
    {
     "data": {
      "text/plain": [
       "{'estimators': [('knn_clf', KNeighborsClassifier()),\n",
       "  ('dt_clf', DecisionTreeClassifier(random_state=2021)),\n",
       "  ('svm_clf', SVC(probability=True))],\n",
       " 'flatten_transform': True,\n",
       " 'n_jobs': None,\n",
       " 'verbose': False,\n",
       " 'voting': 'soft',\n",
       " 'weights': None,\n",
       " 'knn_clf': KNeighborsClassifier(),\n",
       " 'dt_clf': DecisionTreeClassifier(random_state=2021),\n",
       " 'svm_clf': SVC(probability=True),\n",
       " 'knn_clf__algorithm': 'auto',\n",
       " 'knn_clf__leaf_size': 30,\n",
       " 'knn_clf__metric': 'minkowski',\n",
       " 'knn_clf__metric_params': None,\n",
       " 'knn_clf__n_jobs': None,\n",
       " 'knn_clf__n_neighbors': 5,\n",
       " 'knn_clf__p': 2,\n",
       " 'knn_clf__weights': 'uniform',\n",
       " 'dt_clf__ccp_alpha': 0.0,\n",
       " 'dt_clf__class_weight': None,\n",
       " 'dt_clf__criterion': 'gini',\n",
       " 'dt_clf__max_depth': None,\n",
       " 'dt_clf__max_features': None,\n",
       " 'dt_clf__max_leaf_nodes': None,\n",
       " 'dt_clf__min_impurity_decrease': 0.0,\n",
       " 'dt_clf__min_impurity_split': None,\n",
       " 'dt_clf__min_samples_leaf': 1,\n",
       " 'dt_clf__min_samples_split': 2,\n",
       " 'dt_clf__min_weight_fraction_leaf': 0.0,\n",
       " 'dt_clf__random_state': 2021,\n",
       " 'dt_clf__splitter': 'best',\n",
       " 'svm_clf__C': 1.0,\n",
       " 'svm_clf__break_ties': False,\n",
       " 'svm_clf__cache_size': 200,\n",
       " 'svm_clf__class_weight': None,\n",
       " 'svm_clf__coef0': 0.0,\n",
       " 'svm_clf__decision_function_shape': 'ovr',\n",
       " 'svm_clf__degree': 3,\n",
       " 'svm_clf__gamma': 'scale',\n",
       " 'svm_clf__kernel': 'rbf',\n",
       " 'svm_clf__max_iter': -1,\n",
       " 'svm_clf__probability': True,\n",
       " 'svm_clf__random_state': None,\n",
       " 'svm_clf__shrinking': True,\n",
       " 'svm_clf__tol': 0.001,\n",
       " 'svm_clf__verbose': False}"
      ]
     },
     "execution_count": 11,
     "metadata": {},
     "output_type": "execute_result"
    }
   ],
   "source": [
    "voting_clf.get_params()"
   ]
  },
  {
   "cell_type": "markdown",
   "id": "1fb8b5bc",
   "metadata": {},
   "source": [
    "## Prediction"
   ]
  },
  {
   "cell_type": "code",
   "execution_count": 12,
   "id": "a5cf9fcc",
   "metadata": {},
   "outputs": [
    {
     "name": "stdout",
     "output_type": "stream",
     "text": [
      "[1. 2. 1. 2. 0. 0. 0. 2. 2. 2.]\n",
      "500\n"
     ]
    }
   ],
   "source": [
    "Submit_y_predict = voting_clf.predict(testset)\n",
    "print(Submit_y_predict[:10])\n",
    "print(len(Submit_y_predict))\n",
    "\n",
    "np.savetxt('D:\\博士\\课程\\数据挖掘与分析\\predict.txt', Submit_y_predict, fmt='%d')"
   ]
  }
 ],
 "metadata": {
  "kernelspec": {
   "display_name": "Python 3",
   "language": "python",
   "name": "python3"
  },
  "language_info": {
   "codemirror_mode": {
    "name": "ipython",
    "version": 3
   },
   "file_extension": ".py",
   "mimetype": "text/x-python",
   "name": "python",
   "nbconvert_exporter": "python",
   "pygments_lexer": "ipython3",
   "version": "3.8.8"
  }
 },
 "nbformat": 4,
 "nbformat_minor": 5
}
